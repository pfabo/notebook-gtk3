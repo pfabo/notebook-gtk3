{
 "cells": [
  {
   "cell_type": "markdown",
   "metadata": {},
   "source": [
    "# Widget Notebook"
   ]
  },
  {
   "cell_type": "markdown",
   "metadata": {},
   "source": [
    "[Notebook](https://developer.gnome.org/gtk3/stable/GtkNotebook.html) je kontainer pre organizáciu widgetov na prekrývajúcich sa stránkach.  \n",
    "\n",
    "## Jednoduchý notebook\n",
    "\n",
    "Nasledujúci príklad ukazuje konštrukciu jednoduchého notebooku s dvoma stránkami. Vlastné stránky notebooku sú tvorené kontainermi, ktoré obsahujú špecifické widgety pre danú stránku. \n",
    "\n",
    "<img src=\"img/notebook_01.png\">\n"
   ]
  },
  {
   "cell_type": "code",
   "execution_count": null,
   "metadata": {},
   "outputs": [],
   "source": [
    "%reset -sf\n",
    "import gi\n",
    "gi.require_version('Gtk', '3.0')\n",
    "from gi.repository import Gtk, Gdk\n",
    "\n",
    "class MyBoxApp(Gtk.Window):\n",
    "\n",
    "    def __init__(self):\n",
    "        Gtk.Window.__init__(self, title=\"Hello Notebook\")\n",
    "        self.set_default_size(400,300)                  \n",
    "        self.set_position(Gtk.WindowPosition.CENTER)    \n",
    "        self.connect(\"destroy\", Gtk.main_quit)\n",
    "            \n",
    "        self.notebook = Gtk.Notebook()      # create notebook object\n",
    "        self.add(self.notebook)\n",
    "        \n",
    "        page1 = Gtk.Box()                   # create first notebook page\n",
    "        label1 = Gtk.Label.new('Label on page 1')\n",
    "        page1.pack_start(label1, True, True, 0)\n",
    "        \n",
    "        page2 = Gtk.Box()                   # create second notebook page\n",
    "        label2 = Gtk.Label.new('Label on page 2')\n",
    "        page2.pack_start(label2, True, True, 0)\n",
    "                                        \n",
    "        self.notebook.append_page(page1, Gtk.Label.new('Page 1'))\n",
    "        self.notebook.append_page(page2, Gtk.Label.new('Page 2'))\n",
    "        self.notebook.connect(\"switch-page\", self.on_page_switched)\n",
    "        self.show_all()\n",
    "                \n",
    "    def on_page_switched(self, notebook, page, index): \n",
    "        print('page switched, index ', index)\n",
    "            \n",
    "win = MyBoxApp()\n",
    "Gtk.main()"
   ]
  },
  {
   "cell_type": "markdown",
   "metadata": {},
   "source": [
    "## Notebook s ikonami\n",
    "\n",
    "Na prepínanie stránok netebooku nemusíme používať len záložky s textovým popisom, do záložky notebooku je možné umiestniť ľubovolný widget, v príklade obrázok.\n",
    "\n",
    "<img src=\"img/notebook_02.png\">"
   ]
  },
  {
   "cell_type": "code",
   "execution_count": null,
   "metadata": {},
   "outputs": [],
   "source": [
    "%reset -sf\n",
    "import gi\n",
    "gi.require_version('Gtk', '3.0')\n",
    "from gi.repository import Gtk, Gdk\n",
    "\n",
    "class MyBoxApp(Gtk.Window):\n",
    "\n",
    "    def __init__(self):\n",
    "        Gtk.Window.__init__(self, title=\"Hello Notebook\")\n",
    "        self.set_default_size(400,300)                  \n",
    "        self.set_position(Gtk.WindowPosition.CENTER)    \n",
    "        self.connect(\"destroy\", Gtk.main_quit)\n",
    "            \n",
    "        self.notebook = Gtk.Notebook()      # create notebook object\n",
    "        self.add(self.notebook)\n",
    "        \n",
    "        icons = ['./img/icon1.svg', './img/icon2.svg', './img/icon3.svg']\n",
    "        for n, name in enumerate(icons):    # create notebook pages\n",
    "            page = Gtk.Box()                   \n",
    "            label = Gtk.Label.new('Label on page ' + str(n))\n",
    "            page.pack_start(label, True, True, 0)\n",
    "            self.notebook.append_page(page, Gtk.Image.new_from_file(name) )\n",
    "    \n",
    "        self.show_all()\n",
    "                          \n",
    "win = MyBoxApp()\n",
    "Gtk.main()"
   ]
  },
  {
   "cell_type": "markdown",
   "metadata": {},
   "source": [
    "## Notebook so zatvárajúcim tlačítkom\n",
    "\n",
    "Pri rozsiahlejších aplikáciách je vhodné pridať do záložky stránky notebooku aj zatváracie tlačítko. Do záložky notebooku môžeme umiestniť kontainer, do ktorého môžeme umiestniť všetky prvky potrebné pre správu stránok.\n",
    "\n",
    "<img src=\"img/notebook_03.png\">"
   ]
  },
  {
   "cell_type": "code",
   "execution_count": null,
   "metadata": {},
   "outputs": [],
   "source": [
    "%reset -sf\n",
    "import gi\n",
    "gi.require_version('Gtk', '3.0')\n",
    "from gi.repository import Gtk, Gdk\n",
    "\n",
    "class MyBoxApp(Gtk.Window):\n",
    "\n",
    "    def __init__(self):\n",
    "        Gtk.Window.__init__(self, title=\"Hello Notebook\")\n",
    "        self.set_default_size(400,300)                  \n",
    "        self.set_position(Gtk.WindowPosition.CENTER)    \n",
    "        self.connect(\"destroy\", Gtk.main_quit)\n",
    "            \n",
    "        self.notebook = Gtk.Notebook()            # create notebook object\n",
    "        self.add(self.notebook)\n",
    "        \n",
    "        tags = ['Home', 'Settings', 'Test', 'Demo', 'Update']\n",
    "        for name in tags:                         # create notebook pages\n",
    "            page = Gtk.Box()                   \n",
    "            label = Gtk.Label.new('Label on page ' + name)\n",
    "            page.pack_start(label, True, True, 0)\n",
    "            \n",
    "            tab, close_button = self.new_tab(name) # create page tab\n",
    "            self.notebook.append_page(page,  tab)  # append page + tab to notebook\n",
    "            \n",
    "            # connect button with event and appropriate notebook page\n",
    "            close_button.connect(\"clicked\", self.on_click, page)\n",
    "        \n",
    "        self.show_all()\n",
    "        \n",
    "    def new_tab(self, page_name):\n",
    "        tab = Gtk.HBox()\n",
    "        label = Gtk.Label.new(page_name)\n",
    "        label.show()\n",
    "        \n",
    "        button = Gtk.Button(image=Gtk.Image.new_from_icon_name(Gtk.STOCK_CLOSE, Gtk.IconSize.MENU), \n",
    "                             relief=Gtk.ReliefStyle.NONE )\n",
    "        button.show()\n",
    "        tab.add(label)\n",
    "        tab.add(button)\n",
    "        return tab, button\n",
    "        \n",
    "    def on_click(self, button, page):\n",
    "        page_num= self.notebook.page_num(page)\n",
    "        print('Close button was clicked on page ', page_num) \n",
    "        self.notebook.remove_page(page_num)\n",
    "        \n",
    "                            \n",
    "win = MyBoxApp()\n",
    "Gtk.main()"
   ]
  }
 ],
 "metadata": {
  "kernelspec": {
   "display_name": "Python 3",
   "language": "python",
   "name": "python3"
  },
  "language_info": {
   "codemirror_mode": {
    "name": "ipython",
    "version": 3
   },
   "file_extension": ".py",
   "mimetype": "text/x-python",
   "name": "python",
   "nbconvert_exporter": "python",
   "pygments_lexer": "ipython3",
   "version": "3.6.8"
  },
  "latex_envs": {
   "LaTeX_envs_menu_present": true,
   "autoclose": false,
   "autocomplete": true,
   "bibliofile": "biblio.bib",
   "cite_by": "apalike",
   "current_citInitial": 1,
   "eqLabelWithNumbers": true,
   "eqNumInitial": 1,
   "hotkeys": {
    "equation": "Ctrl-E",
    "itemize": "Ctrl-I"
   },
   "labels_anchors": false,
   "latex_user_defs": false,
   "report_style_numbering": false,
   "user_envs_cfg": false
  },
  "varInspector": {
   "cols": {
    "lenName": 16,
    "lenType": 16,
    "lenVar": 40
   },
   "kernels_config": {
    "python": {
     "delete_cmd_postfix": "",
     "delete_cmd_prefix": "del ",
     "library": "var_list.py",
     "varRefreshCmd": "print(var_dic_list())"
    },
    "r": {
     "delete_cmd_postfix": ") ",
     "delete_cmd_prefix": "rm(",
     "library": "var_list.r",
     "varRefreshCmd": "cat(var_dic_list()) "
    }
   },
   "types_to_exclude": [
    "module",
    "function",
    "builtin_function_or_method",
    "instance",
    "_Feature"
   ],
   "window_display": false
  }
 },
 "nbformat": 4,
 "nbformat_minor": 2
}
