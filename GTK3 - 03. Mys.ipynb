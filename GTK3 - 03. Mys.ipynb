{
 "cells": [
  {
   "cell_type": "markdown",
   "metadata": {},
   "source": [
    "# Myš\n",
    "\n",
    "\n",
    "V príklade je použitý kontainer Gtk.Layout, ktorý umožňuje uloženie widgetov v absolútnych súradniciach. Pre spracovanie udalostí myši je potrebné Gtk.Layout rozšíriť o spracovanie udalostí myši, štandardne layout nereaguje na žiadne udalosti.  \n",
    "\n",
    "<img src=\"img/img6.png\">\n",
    "\n",
    "Dokumentácia k triede Gtk.Layout\n",
    "\n",
    "https://lazka.github.io/pgi-docs/Gtk-3.0/classes/Layout.html#\n",
    "\n",
    "Zoznam masiek pre udalosti\n",
    "\n",
    "https://lazka.github.io/pgi-docs/Gdk-3.0/flags.html"
   ]
  },
  {
   "cell_type": "code",
   "execution_count": null,
   "metadata": {},
   "outputs": [],
   "source": [
    "%reset -f\n",
    "\n",
    "import gi\n",
    "gi.require_version('Gtk', '3.0')\n",
    "from gi.repository import Gtk, Gdk\n",
    "\n",
    "class MouseApp(Gtk.Window):\n",
    "\n",
    "    def __init__(self):\n",
    "        Gtk.Window.__init__(self, title=\"Mouse Application\")\n",
    "        self.set_default_size(320,200)                    \n",
    "        self.set_position(Gtk.WindowPosition.CENTER)     \n",
    "        self.connect(\"destroy\", Gtk.main_quit) \n",
    "        \n",
    "        self.layout = Gtk.Layout() \n",
    "        self.layout.add_events( Gdk.EventMask.BUTTON_PRESS_MASK         # mouse any button pressed\n",
    "                              | Gdk.EventMask.BUTTON_RELEASE_MASK       # mouse any button released\n",
    "                              | Gdk.EventMask.BUTTON1_MOTION_MASK)      # mouse move + button1 pressed\n",
    "        self.layout.connect('event', self.on_mouse_event)\n",
    "        self.add(self.layout)\n",
    "                \n",
    "        self.text = Gtk.Label.new('Move text with mouse')  \n",
    "        self.layout.put(self.text, 50, 50)\n",
    "        self.show_all()\n",
    "        \n",
    "    def on_mouse_event(self, window, event):\n",
    "        if event.type == Gdk.EventType.BUTTON_PRESS:\n",
    "            print( 'Pressed at  x={0:6.2f}, y={1:6.2f}'.format(event.x, event.y))\n",
    "        \n",
    "        if event.type == Gdk.EventType.MOTION_NOTIFY:\n",
    "            self.layout.move(self.text, event.x, event.y)\n",
    "            \n",
    "        if event.type == Gdk.EventType.BUTTON_RELEASE:\n",
    "            print( 'Released at x={0:6.2f}, y={1:6.2f}'.format(event.x, event.y))\n",
    "            \n",
    "win = MouseApp()\n",
    "Gtk.main()\n"
   ]
  }
 ],
 "metadata": {
  "kernelspec": {
   "display_name": "Python 3",
   "language": "python",
   "name": "python3"
  },
  "language_info": {
   "codemirror_mode": {
    "name": "ipython",
    "version": 3
   },
   "file_extension": ".py",
   "mimetype": "text/x-python",
   "name": "python",
   "nbconvert_exporter": "python",
   "pygments_lexer": "ipython3",
   "version": "3.5.2"
  }
 },
 "nbformat": 4,
 "nbformat_minor": 2
}
