{
 "cells": [
  {
   "cell_type": "markdown",
   "metadata": {},
   "source": [
    "# Klavesnica\n",
    "\n",
    "Ukážka priradenie a spracovania udalostí klávesnice v aplikácii. Stlačením klávesy ESC sa aplikácia ukončí.\n",
    "\n",
    "<img src=\"img/img7.png\">\n",
    "\n",
    "Kódy stlačných kláves Gdk.KEY_* sú deklarované ako konštanty v dokumentácii\n",
    "\n",
    "https://lazka.github.io/pgi-docs/Gdk-3.0/constants.html"
   ]
  },
  {
   "cell_type": "code",
   "execution_count": null,
   "metadata": {},
   "outputs": [],
   "source": [
    "%reset -f\n",
    "\n",
    "import gi\n",
    "gi.require_version('Gtk', '3.0')\n",
    "from gi.repository import Gtk, Gdk\n",
    "\n",
    "class KeyboardApp(Gtk.Window):\n",
    "\n",
    "    def __init__(self):\n",
    "        Gtk.Window.__init__(self, title=\"Keyboard App\")\n",
    "        self.set_default_size(200, 50)                   \n",
    "        self.set_position(Gtk.WindowPosition.CENTER)\n",
    "        self.connect(\"destroy\", Gtk.main_quit)                    # priradenie obsluhy udalosti 'destroy'\n",
    "        self.connect(\"key-press-event\", self.on_key_press)        # priradenie obsluhy stlacenia klavesy\n",
    "        self.connect(\"key-release-event\", self.on_key_release)    # priradenie obsluhy uvolnenia klavesy\n",
    "        \n",
    "        self.add(Gtk.Label.new('Press key ... or ESC to exit'))\n",
    "        self.show_all()\n",
    "\n",
    "    def on_key_press(self, widget, event):\n",
    "        print('Pressed  ', event.keyval, '\\t', chr(event.keyval) )\n",
    "        if event.keyval == Gdk.KEY_F1:\n",
    "            print('    Key F1')\n",
    "            \n",
    "    def on_key_release(self, widget, event):\n",
    "        if event.keyval ==  Gdk.KEY_Escape:\n",
    "            self.destroy()\n",
    "            Gtk.main_quit()\n",
    "            \n",
    "win = KeyboardApp()\n",
    "Gtk.main()"
   ]
  }
 ],
 "metadata": {
  "kernelspec": {
   "display_name": "Python 3",
   "language": "python",
   "name": "python3"
  },
  "language_info": {
   "codemirror_mode": {
    "name": "ipython",
    "version": 3
   },
   "file_extension": ".py",
   "mimetype": "text/x-python",
   "name": "python",
   "nbconvert_exporter": "python",
   "pygments_lexer": "ipython3",
   "version": "3.5.2"
  }
 },
 "nbformat": 4,
 "nbformat_minor": 2
}
